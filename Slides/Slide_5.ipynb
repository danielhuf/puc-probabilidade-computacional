{
 "cells": [
  {
   "cell_type": "markdown",
   "metadata": {},
   "source": [
    "# **SLIDE 5 - PROBABILIDADE CONDICIONAL**"
   ]
  },
  {
   "cell_type": "markdown",
   "metadata": {},
   "source": [
    "## **Dado não vicidado**"
   ]
  },
  {
   "cell_type": "code",
   "execution_count": 4,
   "metadata": {
    "execution": {
     "iopub.execute_input": "2022-04-17T18:35:59.976493Z",
     "iopub.status.busy": "2022-04-17T18:35:59.976139Z",
     "iopub.status.idle": "2022-04-17T18:35:59.985500Z",
     "shell.execute_reply": "2022-04-17T18:35:59.984744Z",
     "shell.execute_reply.started": "2022-04-17T18:35:59.976458Z"
    },
    "tags": []
   },
   "outputs": [
    {
     "name": "stdout",
     "output_type": "stream",
     "text": [
      "0.491\n",
      "0.514\n"
     ]
    }
   ],
   "source": [
    "import random\n",
    "nsamples = 1000\n",
    "S = []\n",
    "for i in range(nsamples):\n",
    "    S.append(random.choice([1,2,3,4,5,6]))\n",
    "A = list(filter(lambda x: (x == 2) or (x == 4) or (x == 6), S))\n",
    "B = list(filter(lambda x: (x == 1) or (x == 2) or (x == 5), S))\n",
    "PA = (len(A)/nsamples)\n",
    "PB = (len(B)/nsamples)\n",
    "print(PA)\n",
    "print(PB)"
   ]
  },
  {
   "cell_type": "markdown",
   "metadata": {},
   "source": [
    "## **Sabendo que A ocorreu**"
   ]
  },
  {
   "cell_type": "code",
   "execution_count": 5,
   "metadata": {
    "execution": {
     "iopub.execute_input": "2022-04-17T18:39:45.339038Z",
     "iopub.status.busy": "2022-04-17T18:39:45.338718Z",
     "iopub.status.idle": "2022-04-17T18:39:45.466254Z",
     "shell.execute_reply": "2022-04-17T18:39:45.465473Z",
     "shell.execute_reply.started": "2022-04-17T18:39:45.339005Z"
    }
   },
   "outputs": [
    {
     "name": "stdout",
     "output_type": "stream",
     "text": [
      "0.33461924854329916\n"
     ]
    }
   ],
   "source": [
    "nsamples = 100000\n",
    "cont2 = 0\n",
    "conta = 0\n",
    "for i in range(nsamples):\n",
    "    face = random.choice([1,2,3,4,5,6])\n",
    "    if ((face == 2) or (face == 4) or (face == 6)):\n",
    "        conta = conta + 1\n",
    "    if (face == 2):\n",
    "        cont2 = cont2 + 1\n",
    "PBdadoA = (cont2 / conta)\n",
    "print(PBdadoA)"
   ]
  },
  {
   "cell_type": "markdown",
   "metadata": {},
   "source": [
    "### 3) Um aluno realiza uma prova com 10 questões do tipo verdadeirofalso. Calcule a probabilidade dele:"
   ]
  },
  {
   "cell_type": "markdown",
   "metadata": {},
   "source": [
    "#### a) acertar todas as questões ao escolher aleatoriamente as respostas,"
   ]
  },
  {
   "cell_type": "code",
   "execution_count": 7,
   "metadata": {
    "execution": {
     "iopub.execute_input": "2022-04-17T19:20:30.861588Z",
     "iopub.status.busy": "2022-04-17T19:20:30.861224Z",
     "iopub.status.idle": "2022-04-17T19:20:38.378264Z",
     "shell.execute_reply": "2022-04-17T19:20:38.377773Z",
     "shell.execute_reply.started": "2022-04-17T19:20:30.861551Z"
    },
    "tags": []
   },
   "outputs": [
    {
     "name": "stderr",
     "output_type": "stream",
     "text": [
      "100%|██████████| 1000000/1000000 [00:07<00:00, 133470.17it/s]"
     ]
    },
    {
     "name": "stdout",
     "output_type": "stream",
     "text": [
      "0.000985\n"
     ]
    },
    {
     "name": "stderr",
     "output_type": "stream",
     "text": [
      "\n"
     ]
    }
   ],
   "source": [
    "import random\n",
    "from tqdm import tqdm\n",
    "nsamples = 1000000\n",
    "contacerto = 0\n",
    "contgabaritou = 0\n",
    "nquestao = 10\n",
    "gabarito = [\"V\",\"F\",\"V\",\"V\",\"F\",\"V\",\"F\",\"V\",\"F\",\"F\"] # um gabarito qualquer\n",
    "resposta = \"\"\n",
    "for i in tqdm(range(nsamples)):\n",
    "    contacerto = 0\n",
    "    for questao in range(nquestao): # escolhe as 10 respostas\n",
    "        resposta = random.choice([\"V\",\"F\"])\n",
    "        if (resposta == gabarito[questao]): # verifica se acertou a resposta\n",
    "            contacerto = contacerto + 1\n",
    "    if (contacerto == nquestao): # verifica a quantidade de acertos\n",
    "        contgabaritou = contgabaritou + 1\n",
    "prob = (contgabaritou/nsamples)\n",
    "print(prob)"
   ]
  },
  {
   "cell_type": "markdown",
   "metadata": {},
   "source": [
    "#### b) acertar todas as questões sabendo que há mais respostas “verdadeiras” do que “falsas”"
   ]
  },
  {
   "cell_type": "code",
   "execution_count": 11,
   "metadata": {
    "execution": {
     "iopub.execute_input": "2022-04-17T19:26:44.030560Z",
     "iopub.status.busy": "2022-04-17T19:26:44.030240Z",
     "iopub.status.idle": "2022-04-17T19:27:01.293274Z",
     "shell.execute_reply": "2022-04-17T19:27:01.292723Z",
     "shell.execute_reply.started": "2022-04-17T19:26:44.030529Z"
    }
   },
   "outputs": [
    {
     "name": "stderr",
     "output_type": "stream",
     "text": [
      "100%|██████████| 1000000/1000000 [00:17<00:00, 57959.24it/s]"
     ]
    },
    {
     "name": "stdout",
     "output_type": "stream",
     "text": [
      "0.00256\n"
     ]
    },
    {
     "name": "stderr",
     "output_type": "stream",
     "text": [
      "\n"
     ]
    }
   ],
   "source": [
    "import random\n",
    "from tqdm import tqdm\n",
    "\n",
    "nsamples = 1000000\n",
    "gabarito = []\n",
    "contgabaritou = 0\n",
    "nquestao = 10\n",
    "for i in tqdm(range(nsamples)):\n",
    "    ngabaritov = 0\n",
    "    while (ngabaritov <= 5): # gabarito com mais \"V\" do que \"F\"\n",
    "        gabarito = random.choices([\"V\",\"F\"], k = nquestao)\n",
    "        ngabaritov = len(list(filter(lambda x: (x == \"V\"), gabarito)))\n",
    "    nrespostav = 0\n",
    "    while (nrespostav <= 5): # devido à regra do gabarito, as respostas possuem também mais \"V\" do que \"F\"\n",
    "        resposta = random.choices([\"V\",\"F\"], k = nquestao)\n",
    "        nrespostav = len(list(filter(lambda x: (x == \"V\"), resposta)))\n",
    "    if (resposta == gabarito): # compara os dois vetores elemento por elemento e retorna T se são iguais\n",
    "        contgabaritou = contgabaritou + 1\n",
    "print(contgabaritou/nsamples)"
   ]
  },
  {
   "cell_type": "markdown",
   "metadata": {},
   "source": [
    "#### c) errar pelo menos uma questão."
   ]
  },
  {
   "cell_type": "code",
   "execution_count": 12,
   "metadata": {
    "execution": {
     "iopub.execute_input": "2022-04-17T19:29:03.776942Z",
     "iopub.status.busy": "2022-04-17T19:29:03.776092Z",
     "iopub.status.idle": "2022-04-17T19:29:11.216993Z",
     "shell.execute_reply": "2022-04-17T19:29:11.216469Z",
     "shell.execute_reply.started": "2022-04-17T19:29:03.776853Z"
    }
   },
   "outputs": [
    {
     "name": "stderr",
     "output_type": "stream",
     "text": [
      "100%|██████████| 1000000/1000000 [00:07<00:00, 134776.30it/s]"
     ]
    },
    {
     "name": "stdout",
     "output_type": "stream",
     "text": [
      "0.999001\n"
     ]
    },
    {
     "name": "stderr",
     "output_type": "stream",
     "text": [
      "\n"
     ]
    }
   ],
   "source": [
    "import random\n",
    "from tqdm import tqdm\n",
    "nsamples = 1000000\n",
    "contacerto = 0\n",
    "contngabaritou = 0\n",
    "nquestao = 10\n",
    "gabarito = [\"V\",\"F\",\"V\",\"V\",\"F\",\"V\",\"F\",\"V\",\"F\",\"F\"] # um gabarito qualquer\n",
    "resposta = \"\"\n",
    "for i in tqdm(range(nsamples)):\n",
    "    contacerto = 0\n",
    "    for questao in range(nquestao): # monta as 10 respostas de uma prova\n",
    "        resposta = random.choice([\"V\",\"F\"])\n",
    "        if (resposta == gabarito[questao]):\n",
    "            contacerto = contacerto + 1\n",
    "    if (contacerto != nquestao): # diferença na lógica para o item a\n",
    "        contngabaritou = contngabaritou + 1\n",
    "prob = (contngabaritou/nsamples)\n",
    "print(prob)"
   ]
  },
  {
   "cell_type": "markdown",
   "metadata": {},
   "source": [
    "#### d) errar pelo menos uma questão sabendo que há mais respostas “verdadeiras” do que “falsas”."
   ]
  },
  {
   "cell_type": "code",
   "execution_count": 14,
   "metadata": {
    "execution": {
     "iopub.execute_input": "2022-04-17T19:32:01.212229Z",
     "iopub.status.busy": "2022-04-17T19:32:01.211461Z",
     "iopub.status.idle": "2022-04-17T19:32:19.877094Z",
     "shell.execute_reply": "2022-04-17T19:32:19.876500Z",
     "shell.execute_reply.started": "2022-04-17T19:32:01.212149Z"
    },
    "tags": []
   },
   "outputs": [
    {
     "name": "stderr",
     "output_type": "stream",
     "text": [
      "100%|██████████| 1000000/1000000 [00:18<00:00, 53631.69it/s]"
     ]
    },
    {
     "name": "stdout",
     "output_type": "stream",
     "text": [
      "0.997327\n"
     ]
    },
    {
     "name": "stderr",
     "output_type": "stream",
     "text": [
      "\n"
     ]
    }
   ],
   "source": [
    "import random\n",
    "from tqdm import tqdm\n",
    "\n",
    "nsamples = 1000000\n",
    "gabarito = []\n",
    "contgabaritou = 0\n",
    "nquestao = 10\n",
    "for i in tqdm(range(nsamples)):\n",
    "    ngabaritov = 0\n",
    "    while (ngabaritov <= 5): # gabarito com mais \"V\" do que \"F\"\n",
    "        gabarito = random.choices([\"V\",\"F\"], k = nquestao)\n",
    "        ngabaritov = len(list(filter(lambda x: (x == \"V\"), gabarito)))\n",
    "    nrespostav = 0\n",
    "    while (nrespostav <= 5): # devido à regra do gabarito, as respostas possuem também mais \"V\" do que \"F\"\n",
    "        resposta = random.choices([\"V\",\"F\"], k = nquestao)\n",
    "        nrespostav = len(list(filter(lambda x: (x == \"V\"), resposta)))\n",
    "    if (resposta != gabarito): # diferença na lógica para o item b\n",
    "        contgabaritou = contgabaritou + 1\n",
    "print(contgabaritou/nsamples)"
   ]
  },
  {
   "cell_type": "code",
   "execution_count": null,
   "metadata": {},
   "outputs": [],
   "source": []
  }
 ],
 "metadata": {
  "kernelspec": {
   "display_name": "Python 3",
   "language": "python",
   "name": "python3"
  },
  "language_info": {
   "codemirror_mode": {
    "name": "ipython",
    "version": 3
   },
   "file_extension": ".py",
   "mimetype": "text/x-python",
   "name": "python",
   "nbconvert_exporter": "python",
   "pygments_lexer": "ipython3",
   "version": "3.7.6"
  }
 },
 "nbformat": 4,
 "nbformat_minor": 4
}
