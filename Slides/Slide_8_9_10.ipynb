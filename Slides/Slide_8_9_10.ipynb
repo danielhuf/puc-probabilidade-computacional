{
 "cells": [
  {
   "cell_type": "markdown",
   "metadata": {},
   "source": [
    "# **SLIDE 8, 9 E 10 - GERANDO VARIÁVEIS ALEATÓRIAS**"
   ]
  },
  {
   "cell_type": "markdown",
   "metadata": {},
   "source": [
    "## **Variável aleatória discreta**"
   ]
  },
  {
   "cell_type": "markdown",
   "metadata": {},
   "source": [
    "## **Variável aleatória contínua: MÉTODO DA INVERSA**"
   ]
  },
  {
   "cell_type": "markdown",
   "metadata": {},
   "source": [
    "#### Exemplo 2) Implemente uma função que gere uma variável aleatória contínua 𝑋 cuja função de distribuição acumulada é uma Exponencial de parâmetro 𝜆 = 2:"
   ]
  },
  {
   "cell_type": "code",
   "execution_count": 1,
   "metadata": {
    "execution": {
     "iopub.execute_input": "2022-06-14T14:48:39.994521Z",
     "iopub.status.busy": "2022-06-14T14:48:39.993430Z",
     "iopub.status.idle": "2022-06-14T14:48:40.545517Z",
     "shell.execute_reply": "2022-06-14T14:48:40.544925Z",
     "shell.execute_reply.started": "2022-06-14T14:48:39.994241Z"
    },
    "tags": []
   },
   "outputs": [
    {
     "data": {
      "image/png": "[encoded data removed]",
      "text/plain": [
       "<Figure size 432x288 with 1 Axes>"
      ]
     },
     "metadata": {
      "needs_background": "light"
     },
     "output_type": "display_data"
    }
   ],
   "source": [
    "import numpy as np\n",
    "import matplotlib.pyplot as plt\n",
    "import math\n",
    "\n",
    "def exponencial(nsamples, taxa):\n",
    "    X = np.zeros(nsamples) # nsamples posições com 0\n",
    "    U = np.random.sample(nsamples) # nsamples valores em [0.0, 1.0)\n",
    "    for i in range(nsamples):\n",
    "        X[i] = - math.log(1.0 - U[i])/taxa # Inversa da exponencial\n",
    "    return (X)\n",
    "\n",
    "taxa = 2.0\n",
    "nsamples = 50000\n",
    "X = exponencial(nsamples, taxa)\n",
    "plt.hist(X, bins=100, facecolor='green')\n",
    "plt.show()"
   ]
  },
  {
   "cell_type": "markdown",
   "metadata": {},
   "source": [
    "#### Exercício 1) Implemente uma função que gere uma variável aleatória contínua 𝑋 cuja função de distribuição acumulada é uma Weibull de parâmetros 𝛼 = 2 e β = 1/2"
   ]
  },
  {
   "cell_type": "code",
   "execution_count": 2,
   "metadata": {
    "execution": {
     "iopub.execute_input": "2022-06-14T14:48:41.349809Z",
     "iopub.status.busy": "2022-06-14T14:48:41.348896Z",
     "iopub.status.idle": "2022-06-14T14:48:41.636437Z",
     "shell.execute_reply": "2022-06-14T14:48:41.635928Z",
     "shell.execute_reply.started": "2022-06-14T14:48:41.349716Z"
    },
    "tags": []
   },
   "outputs": [
    {
     "data": {
      "image/png": "[encoded data removed]",
      "text/plain": [
       "<Figure size 432x288 with 1 Axes>"
      ]
     },
     "metadata": {
      "needs_background": "light"
     },
     "output_type": "display_data"
    }
   ],
   "source": [
    "import numpy as np\n",
    "import matplotlib.pyplot as plt\n",
    "import math\n",
    "\n",
    "def weibull(nsamples, a, b):\n",
    "    X = np.zeros(nsamples)\n",
    "    U = np.random.sample(nsamples)\n",
    "    for i in range(nsamples):\n",
    "        X[i] = b * math.pow(-math.log(1 - U[i]), 1.0 / a)\n",
    "    return (X)\n",
    "a = 2.0\n",
    "b = 0.5\n",
    "nsamples = 50000\n",
    "X = weibull(nsamples, a, b)\n",
    "plt.hist(X, bins=100, facecolor='green')\n",
    "plt.show()"
   ]
  },
  {
   "cell_type": "markdown",
   "metadata": {},
   "source": [
    "## **MÉTODO POLAR**"
   ]
  },
  {
   "cell_type": "markdown",
   "metadata": {},
   "source": [
    "#### Exemplo 3) Gere um par de variáveis aleatórias 𝑌 e 𝑋 com função densidade de probabilidade 𝑁𝑜𝑟𝑚𝑎𝑙 (0, 1)."
   ]
  },
  {
   "cell_type": "code",
   "execution_count": 3,
   "metadata": {
    "execution": {
     "iopub.execute_input": "2022-06-14T14:48:42.624567Z",
     "iopub.status.busy": "2022-06-14T14:48:42.624262Z",
     "iopub.status.idle": "2022-06-14T14:48:43.005610Z",
     "shell.execute_reply": "2022-06-14T14:48:43.005044Z",
     "shell.execute_reply.started": "2022-06-14T14:48:42.624537Z"
    },
    "tags": []
   },
   "outputs": [
    {
     "name": "stdout",
     "output_type": "stream",
     "text": [
      "4.2213308480435786e-05\n",
      "0.007895258917114867\n"
     ]
    },
    {
     "data": {
      "image/png": "[encoded data removed]",
      "text/plain": [
       "<Figure size 432x288 with 1 Axes>"
      ]
     },
     "metadata": {
      "needs_background": "light"
     },
     "output_type": "display_data"
    }
   ],
   "source": [
    "import numpy as np\n",
    "import matplotlib.pyplot as plt\n",
    "import math\n",
    "\n",
    "# Gera v.a. exponencial a partir da inversa da exponencial\n",
    "def exponencial(nsamples, taxa):\n",
    "    x = np.zeros(nsamples)\n",
    "    u = np.random.sample(nsamples)\n",
    "    for i in range(nsamples):\n",
    "        x[i] = -math.log(1.0-u[i])/taxa\n",
    "    return x\n",
    "\n",
    "# Gera v.a. uniforme de parâmetros \"a\" e \"b\" a partir da inversa da uniforme\n",
    "def uniform(nsamples, a, b):\n",
    "    x = np.zeros(nsamples)\n",
    "    u = np.random.sample(nsamples)\n",
    "    for i in range(nsamples):\n",
    "        x[i] = a + (b-a)*u[i]\n",
    "    return x\n",
    "\n",
    "def normalPolar(nsamples):\n",
    "    x = np.zeros(nsamples)\n",
    "    y = np.zeros(nsamples)\n",
    "    d = exponencial(nsamples, 0.5)\n",
    "    theta = uniform(nsamples, 0, 2*math.pi)\n",
    "    for i in range(nsamples):\n",
    "        r = math.sqrt(d[i])\n",
    "        x[i] = r*math.cos(theta[i])\n",
    "        y[i] = r*math.sin(theta[i])\n",
    "    return (x, y) # retorna as duas v.a.\n",
    "\n",
    "# par[0] contém X, par[1] contém Y\n",
    "parVA = normalPolar(10000)\n",
    "print(np.mean(parVA[0])); print(np.mean(parVA[1]))\n",
    "\n",
    "plt.hist(parVA[0], bins=100, facecolor='green')\n",
    "# Deslocada para a posição 10 só para mostrar na tela\n",
    "plt.hist(parVA[1] + 10, bins=100, facecolor='green')\n",
    "plt.show()"
   ]
  },
  {
   "cell_type": "markdown",
   "metadata": {},
   "source": [
    "## **MÉTODO DA REJEIÇÃO**"
   ]
  },
  {
   "cell_type": "markdown",
   "metadata": {},
   "source": [
    "#### Exemplo 1) Suponha que deseja-se gerar amostras de uma variável aleatória 𝑋 com função densidade de probabilidade Normal (0, 1). \n",
    "#### (use ℎ(𝑥) = 𝑒^-x, sendo 𝑝(𝑥) = (2/2𝜋) * 𝑒^(-x^2/2) )"
   ]
  },
  {
   "cell_type": "code",
   "execution_count": 5,
   "metadata": {
    "execution": {
     "iopub.execute_input": "2022-06-14T14:52:34.783122Z",
     "iopub.status.busy": "2022-06-14T14:52:34.782817Z",
     "iopub.status.idle": "2022-06-14T14:52:35.173772Z",
     "shell.execute_reply": "2022-06-14T14:52:35.173188Z",
     "shell.execute_reply.started": "2022-06-14T14:52:34.783094Z"
    },
    "tags": []
   },
   "outputs": [
    {
     "name": "stdout",
     "output_type": "stream",
     "text": [
      "0.0054562732498749655\n",
      "0.9666773611091779 \n",
      "\n"
     ]
    },
    {
     "data": {
      "image/png": "[encoded data removed]",
      "text/plain": [
       "<Figure size 432x288 with 1 Axes>"
      ]
     },
     "metadata": {
      "needs_background": "light"
     },
     "output_type": "display_data"
    }
   ],
   "source": [
    "import numpy as np\n",
    "import matplotlib.pyplot as plt\n",
    "import math\n",
    "\n",
    "def p(x):\n",
    "    return (2.0/math.sqrt(2*math.pi))*math.exp((-x**2)/2)\n",
    "\n",
    "def h(x):\n",
    "    return math.exp(-x)\n",
    "\n",
    "# Inversa da exponencial com 𝜆 = 1 usada para gerar a variável aleatória Y\n",
    "def inversa_h(x):\n",
    "    return -math.log(1.0-x)\n",
    "\n",
    "def normal(nsamples):\n",
    "    x = np.zeros(nsamples)\n",
    "    c = math.sqrt((2*(math.exp(1)))/math.pi)\n",
    "    for i in range(nsamples):\n",
    "        while (True):\n",
    "            u1 = np.random.sample(1)\n",
    "            y = inversa_h(u1) # gera Y a partir da inversa\n",
    "            u2 = np.random.sample(1)\n",
    "            if (u2 <= p(y)/(c*h(y))):\n",
    "                u3 = np.random.sample(1) #simetria da normal\n",
    "                if (u3 < 0.5):\n",
    "                    x[i] = -y\n",
    "                else:\n",
    "                    x[i] = y\n",
    "                break\n",
    "    return x\n",
    "\n",
    "X = normal(10000)\n",
    "print(np.mean(X))\n",
    "print(np.var(X), '\\n')\n",
    "plt.hist(X, bins=100, facecolor='green')\n",
    "plt.show()"
   ]
  }
 ],
 "metadata": {
  "kernelspec": {
   "display_name": "Python 3",
   "language": "python",
   "name": "python3"
  },
  "language_info": {
   "codemirror_mode": {
    "name": "ipython",
    "version": 3
   },
   "file_extension": ".py",
   "mimetype": "text/x-python",
   "name": "python",
   "nbconvert_exporter": "python",
   "pygments_lexer": "ipython3",
   "version": "3.7.6"
  }
 },
 "nbformat": 4,
 "nbformat_minor": 4
}
