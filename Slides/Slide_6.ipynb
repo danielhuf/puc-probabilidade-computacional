{
 "cells": [
  {
   "cell_type": "markdown",
   "metadata": {},
   "source": [
    "# **SLIDE 6 - VARIÁVEIS ALEATÓRIAS**"
   ]
  },
  {
   "cell_type": "markdown",
   "metadata": {},
   "source": [
    "## **Uso da choice**"
   ]
  },
  {
   "cell_type": "code",
   "execution_count": 1,
   "metadata": {
    "execution": {
     "iopub.execute_input": "2022-04-21T02:43:04.024950Z",
     "iopub.status.busy": "2022-04-21T02:43:04.024633Z",
     "iopub.status.idle": "2022-04-21T02:43:04.140948Z",
     "shell.execute_reply": "2022-04-21T02:43:04.140275Z",
     "shell.execute_reply.started": "2022-04-21T02:43:04.024886Z"
    },
    "tags": []
   },
   "outputs": [
    {
     "name": "stdout",
     "output_type": "stream",
     "text": [
      "Probabilidade da bolinha [1] = 0.09853\n",
      "Probabilidade da bolinha [2] = 0.09909\n",
      "Probabilidade da bolinha [3] = 0.1004\n",
      "Probabilidade da bolinha [4] = 0.10123\n",
      "Probabilidade da bolinha [5] = 0.10082\n",
      "Probabilidade da bolinha [6] = 0.09967\n",
      "Probabilidade da bolinha [7] = 0.09964\n",
      "Probabilidade da bolinha [8] = 0.10095\n",
      "Probabilidade da bolinha [9] = 0.10077\n"
     ]
    }
   ],
   "source": [
    "import random\n",
    "n = 100000 #100000 escolhas a realizar, ou seja, um número muito grande\n",
    "bolinhas = [1,2,3,4,5,6,7,8,9,10] #bolinhas de 1 a 10\n",
    "caixa = bolinhas #caixa com 10 bolinhas\n",
    "numerobolinhas = len(bolinhas)\n",
    "totalbolinhaescolhida = [0]*numerobolinhas # vetor de tamanho numerobolinhas com 0\n",
    "probabilidadebolinhaescolhida = [0]*numerobolinhas\n",
    "#n escolhas de bolinhas com repetição\n",
    "for i in range(1, n):\n",
    "    bolinha = random.choice(caixa)\n",
    "    totalbolinhaescolhida [bolinha - 1] = totalbolinhaescolhida [bolinha - 1] + 1\n",
    "#probabilidade de escolha de cada bolinha\n",
    "for i in range(1, numerobolinhas):\n",
    "    probabilidade = totalbolinhaescolhida [i - 1] / n\n",
    "    print ('Probabilidade da bolinha [' + str(i) + '] = ' + str(probabilidade))"
   ]
  },
  {
   "cell_type": "markdown",
   "metadata": {},
   "source": [
    "### Exemplo 1. Uma urna possui 10 bolas sendo 3 com o número 1 e 7 com o número 2 e vamos refazer os itens a) e b) utilizando simulação. "
   ]
  },
  {
   "cell_type": "markdown",
   "metadata": {},
   "source": [
    "#### a) Definimos a variável 𝑋 como o número de bolas obtidas em uma extração aleatória"
   ]
  },
  {
   "cell_type": "code",
   "execution_count": 2,
   "metadata": {
    "execution": {
     "iopub.execute_input": "2022-04-21T02:43:04.883680Z",
     "iopub.status.busy": "2022-04-21T02:43:04.882796Z",
     "iopub.status.idle": "2022-04-21T02:43:05.004852Z",
     "shell.execute_reply": "2022-04-21T02:43:05.004275Z",
     "shell.execute_reply.started": "2022-04-21T02:43:04.883587Z"
    },
    "tags": []
   },
   "outputs": [
    {
     "name": "stdout",
     "output_type": "stream",
     "text": [
      "0.30284\n",
      "0.69716\n"
     ]
    }
   ],
   "source": [
    "import random\n",
    "n = 100000 #100000 escolhas a realizar, ou seja, um número muito grande\n",
    "bolinhas = [1,1,1,2,2,2,2,2,2,2] # bolinhas 1 e 2\n",
    "caixa = bolinhas # caixa com 10 bolinhas\n",
    "numerobolinhas = len(bolinhas)\n",
    "totalbolinhaescolhida = [0]*numerobolinhas # vetor de tamanho numerobolinhas com 0s\n",
    "probabilidadebolinhaescolhida = [0]*numerobolinhas # vetor de tamanho numerobolinhas com 0s\n",
    "contb1 = 0\n",
    "contb2 = 0\n",
    "for i in range(n):\n",
    "    bolinha = random.choice(caixa)\n",
    "    if (bolinha == 1):\n",
    "        contb1 = contb1 + 1\n",
    "    if (bolinha == 2):\n",
    "        contb2 = contb2 + 1\n",
    "probb1 = (contb1/n)\n",
    "print(probb1)\n",
    "probb2 = (contb2/n)\n",
    "print(probb2)"
   ]
  },
  {
   "cell_type": "markdown",
   "metadata": {},
   "source": [
    "#### b) Definimos a variável 𝑌 como o número de bolas com o número 1 obtidas em duas extrações."
   ]
  },
  {
   "cell_type": "code",
   "execution_count": 3,
   "metadata": {
    "execution": {
     "iopub.execute_input": "2022-04-21T02:43:05.483658Z",
     "iopub.status.busy": "2022-04-21T02:43:05.482920Z",
     "iopub.status.idle": "2022-04-21T02:43:05.790590Z",
     "shell.execute_reply": "2022-04-21T02:43:05.790034Z",
     "shell.execute_reply.started": "2022-04-21T02:43:05.483593Z"
    },
    "tags": []
   },
   "outputs": [
    {
     "name": "stdout",
     "output_type": "stream",
     "text": [
      "0.06766\n",
      "0.23299\n",
      "0.23482\n",
      "0.46453\n"
     ]
    }
   ],
   "source": [
    "import random\n",
    "n = 100000 # escolhas a realizar, ou seja, um número muito grande\n",
    "bolinhas = [1,1,1,2,2,2,2,2,2,2] # bolinhas 1 e 2\n",
    "caixa = bolinhas #caixa com 10 bolinhas\n",
    "numerobolinhas = len(bolinhas)\n",
    "totalbolinhaescolhida = [0]*numerobolinhas\n",
    "probabilidadebolinhaescolhida = [0]*numerobolinhas\n",
    "contb11 = 0\n",
    "contb12 = 0\n",
    "contb21 = 0\n",
    "contb22 = 0\n",
    "for i in range(n):\n",
    "    bolas = random.sample(caixa, 2) # sem reposição\n",
    "    if (bolas[0] == 1):\n",
    "        if (bolas[1] == 1):\n",
    "            contb11 = contb11 + 1\n",
    "        else:\n",
    "            contb12 = contb12 + 1\n",
    "    else:\n",
    "        if (bolas[1] == 1):\n",
    "            contb21 = contb21 + 1\n",
    "        else:\n",
    "            contb22 = contb22 + 1 \n",
    "probb11 = (contb11/n)\n",
    "print(probb11)\n",
    "probb12 = (contb12/n)\n",
    "print(probb12)\n",
    "probb21 = (contb21/n)\n",
    "print(probb21)\n",
    "probb22 = (contb22/n)\n",
    "print(probb22)"
   ]
  },
  {
   "cell_type": "code",
   "execution_count": null,
   "metadata": {},
   "outputs": [],
   "source": []
  }
 ],
 "metadata": {
  "kernelspec": {
   "display_name": "Python 3",
   "language": "python",
   "name": "python3"
  },
  "language_info": {
   "codemirror_mode": {
    "name": "ipython",
    "version": 3
   },
   "file_extension": ".py",
   "mimetype": "text/x-python",
   "name": "python",
   "nbconvert_exporter": "python",
   "pygments_lexer": "ipython3",
   "version": "3.7.6"
  }
 },
 "nbformat": 4,
 "nbformat_minor": 4
}
