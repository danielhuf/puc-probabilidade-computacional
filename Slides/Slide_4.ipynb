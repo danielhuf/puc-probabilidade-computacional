{
 "cells": [
  {
   "cell_type": "markdown",
   "metadata": {},
   "source": [
    "# **SLIDE 4 - PROBABILIDADE**"
   ]
  },
  {
   "cell_type": "markdown",
   "metadata": {},
   "source": [
    "## **Probabilidade**"
   ]
  },
  {
   "cell_type": "code",
   "execution_count": 1,
   "metadata": {
    "execution": {
     "iopub.execute_input": "2022-04-16T21:03:18.011086Z",
     "iopub.status.busy": "2022-04-16T21:03:18.010517Z",
     "iopub.status.idle": "2022-04-16T21:03:18.020887Z",
     "shell.execute_reply": "2022-04-16T21:03:18.019467Z",
     "shell.execute_reply.started": "2022-04-16T21:03:18.010942Z"
    },
    "tags": []
   },
   "outputs": [
    {
     "name": "stdout",
     "output_type": "stream",
     "text": [
      "0.5\n"
     ]
    }
   ],
   "source": [
    "def probabilidade(e, s):\n",
    "    retorno = len(e) / len(s)\n",
    "    return (retorno)\n",
    "S = ['H', 'T']\n",
    "E = ['H']\n",
    "p = probabilidade(E, S)\n",
    "print(p)"
   ]
  },
  {
   "cell_type": "markdown",
   "metadata": {
    "execution": {
     "iopub.execute_input": "2022-04-16T18:53:50.151761Z",
     "iopub.status.busy": "2022-04-16T18:53:50.150346Z",
     "iopub.status.idle": "2022-04-16T18:53:50.223723Z",
     "shell.execute_reply": "2022-04-16T18:53:50.222373Z",
     "shell.execute_reply.started": "2022-04-16T18:53:50.151620Z"
    },
    "tags": []
   },
   "source": [
    "## **Problema dos Chapéus**\n",
    "#### Suponha que na entrada de uma festa uma recepcionista recebeu 𝑛 chapéus dos 𝑛 convidados. Suponha ainda que todos os convidados levaram exatamente 1 chapéu. Crie um programa para calcular a probabilidade de nenhum convidado receber o chapéu correto com 𝑛 variando de 2 a 40. "
   ]
  },
  {
   "cell_type": "code",
   "execution_count": 2,
   "metadata": {
    "execution": {
     "iopub.execute_input": "2022-04-16T21:03:25.622628Z",
     "iopub.status.busy": "2022-04-16T21:03:25.622281Z",
     "iopub.status.idle": "2022-04-16T21:03:25.627953Z",
     "shell.execute_reply": "2022-04-16T21:03:25.626921Z",
     "shell.execute_reply.started": "2022-04-16T21:03:25.622592Z"
    },
    "tags": []
   },
   "outputs": [],
   "source": [
    "from decimal import Decimal\n",
    "def fatorial(n):\n",
    "    fat = 1\n",
    "    i = 2\n",
    "    while (i <= n):\n",
    "        fat = fat * i\n",
    "        i = i + 1\n",
    "    return Decimal (fat)"
   ]
  },
  {
   "cell_type": "code",
   "execution_count": 3,
   "metadata": {
    "execution": {
     "iopub.execute_input": "2022-04-16T21:03:25.984785Z",
     "iopub.status.busy": "2022-04-16T21:03:25.984518Z",
     "iopub.status.idle": "2022-04-16T21:03:25.989995Z",
     "shell.execute_reply": "2022-04-16T21:03:25.989019Z",
     "shell.execute_reply.started": "2022-04-16T21:03:25.984747Z"
    },
    "tags": []
   },
   "outputs": [],
   "source": [
    "def permutacao_caotica(n):\n",
    "    retorno = 0\n",
    "    for i in range(n + 1):\n",
    "        retorno = retorno + (((-1)**i)/fatorial(i))\n",
    "    retorno = fatorial(n) * retorno\n",
    "    return (retorno)"
   ]
  },
  {
   "cell_type": "code",
   "execution_count": 5,
   "metadata": {
    "execution": {
     "iopub.execute_input": "2022-04-16T21:04:25.958976Z",
     "iopub.status.busy": "2022-04-16T21:04:25.958430Z",
     "iopub.status.idle": "2022-04-16T21:04:26.168502Z",
     "shell.execute_reply": "2022-04-16T21:04:26.167568Z",
     "shell.execute_reply.started": "2022-04-16T21:04:25.958922Z"
    },
    "tags": []
   },
   "outputs": [
    {
     "name": "stdout",
     "output_type": "stream",
     "text": [
      "[(2, Decimal('0.5')), (3, Decimal('0.3333333333333333333333333333')), (4, Decimal('0.375000000000000000000000000')), (5, Decimal('0.3666666666666666666666666667')), (6, Decimal('0.3680555555555555555555555556')), (7, Decimal('0.3678571428571428571428571429')), (8, Decimal('0.3678819444444444444444444444')), (9, Decimal('0.3678791887125220458553791887')), (10, Decimal('0.3678794642857142857142857143')), (11, Decimal('0.3678794392336059002725669392')), (12, Decimal('0.3678794413212815990593768372')), (13, Decimal('0.3678794411606911606911606912')), (14, Decimal('0.3678794411721619062888904159')), (15, Decimal('0.3678794411713971899157084343')), (16, Decimal('0.3678794411714449846890323082')), (17, Decimal('0.3678794411714421732317779628')), (18, Decimal('0.3678794411714423294238476486')), (19, Decimal('0.3678794411714423212032124020')), (20, Decimal('0.3678794411714423216142441643')), (21, Decimal('0.3678794411714423215946712233')), (22, Decimal('0.3678794411714423215955609023')), (23, Decimal('0.3678794411714423215955222206')), (24, Decimal('0.3678794411714423215955238322')), (25, Decimal('0.3678794411714423215955237678')), (26, Decimal('0.3678794411714423215955237703')), (27, Decimal('0.3678794411714423215955237702')), (28, Decimal('0.3678794411714423215955237703')), (29, Decimal('0.3678794411714423215955237702')), (30, Decimal('0.3678794411714423215955237702')), (31, Decimal('0.3678794411714423215955237702')), (32, Decimal('0.3678794411714423215955237702')), (33, Decimal('0.3678794411714423215955237702')), (34, Decimal('0.3678794411714423215955237702')), (35, Decimal('0.3678794411714423215955237702')), (36, Decimal('0.3678794411714423215955237702')), (37, Decimal('0.3678794411714423215955237702')), (38, Decimal('0.3678794411714423215955237702')), (39, Decimal('0.3678794411714423215955237702')), (40, Decimal('0.3678794411714423215955237703'))]\n"
     ]
    },
    {
     "data": {
      "image/png": "[encoded data removed]",
      "text/plain": [
       "<Figure size 432x288 with 1 Axes>"
      ]
     },
     "metadata": {
      "needs_background": "light"
     },
     "output_type": "display_data"
    }
   ],
   "source": [
    "import matplotlib.pyplot as plt\n",
    "v = []\n",
    "for i in range(2, 41):\n",
    "    nenhum_convidado = permutacao_caotica(i) / fatorial(i)\n",
    "    v.append((i, nenhum_convidado))\n",
    "print(v)\n",
    "plt.scatter(*zip(*v))\n",
    "plt.show()\n",
    "# Perceba que para n -> infinito o resultado da probabilidade é e^-1 ~0.37"
   ]
  },
  {
   "cell_type": "code",
   "execution_count": null,
   "metadata": {},
   "outputs": [],
   "source": []
  }
 ],
 "metadata": {
  "kernelspec": {
   "display_name": "Python 3",
   "language": "python",
   "name": "python3"
  },
  "language_info": {
   "codemirror_mode": {
    "name": "ipython",
    "version": 3
   },
   "file_extension": ".py",
   "mimetype": "text/x-python",
   "name": "python",
   "nbconvert_exporter": "python",
   "pygments_lexer": "ipython3",
   "version": "3.7.6"
  }
 },
 "nbformat": 4,
 "nbformat_minor": 4
}
