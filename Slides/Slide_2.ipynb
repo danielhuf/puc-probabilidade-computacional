{
 "cells": [
  {
   "cell_type": "markdown",
   "metadata": {
    "execution": {
     "iopub.execute_input": "2022-04-13T21:34:39.356964Z",
     "iopub.status.busy": "2022-04-13T21:34:39.355943Z",
     "iopub.status.idle": "2022-04-13T21:34:39.366067Z",
     "shell.execute_reply": "2022-04-13T21:34:39.364220Z",
     "shell.execute_reply.started": "2022-04-13T21:34:39.356865Z"
    },
    "tags": []
   },
   "source": [
    "# **SLIDE 2 - GERAÇÃO DE NÚMEROS PSEUDO ALEATÓRIOS**"
   ]
  },
  {
   "cell_type": "markdown",
   "metadata": {},
   "source": [
    "## **Linear Congruential Generator (LCG)**"
   ]
  },
  {
   "cell_type": "code",
   "execution_count": 1,
   "metadata": {
    "execution": {
     "iopub.execute_input": "2022-04-16T21:00:58.150683Z",
     "iopub.status.busy": "2022-04-16T21:00:58.150381Z",
     "iopub.status.idle": "2022-04-16T21:00:58.157849Z",
     "shell.execute_reply": "2022-04-16T21:00:58.157072Z",
     "shell.execute_reply.started": "2022-04-16T21:00:58.150612Z"
    },
    "tags": []
   },
   "outputs": [
    {
     "name": "stdout",
     "output_type": "stream",
     "text": [
      "12\n",
      "[1, 6, 3, 7, 9, 10, 5, 8, 4, 2, 1, 6]\n"
     ]
    }
   ],
   "source": [
    "x0 = 1\n",
    "a = 6\n",
    "c = 0\n",
    "M = 11\n",
    "\n",
    "def LCG(seed, a, c, M):\n",
    "    x = seed\n",
    "    u = []\n",
    "    u.append(x)\n",
    "    for i in range(11):\n",
    "        nx = (a * x + c) % M\n",
    "        u.append(nx)\n",
    "        x = nx\n",
    "    return u\n",
    "\n",
    "U = LCG(x0, a, c, M)\n",
    "print(len(U))\n",
    "print(U)"
   ]
  },
  {
   "cell_type": "code",
   "execution_count": 2,
   "metadata": {
    "execution": {
     "iopub.execute_input": "2022-04-16T21:01:00.939142Z",
     "iopub.status.busy": "2022-04-16T21:01:00.938909Z",
     "iopub.status.idle": "2022-04-16T21:01:02.002184Z",
     "shell.execute_reply": "2022-04-16T21:01:02.001465Z",
     "shell.execute_reply.started": "2022-04-16T21:01:00.939119Z"
    },
    "tags": []
   },
   "outputs": [
    {
     "name": "stdout",
     "output_type": "stream",
     "text": [
      "1000000\n"
     ]
    },
    {
     "data": {
      "image/png": "[encoded data removed]",
      "text/plain": [
       "<Figure size 432x288 with 1 Axes>"
      ]
     },
     "metadata": {
      "needs_background": "light"
     },
     "output_type": "display_data"
    }
   ],
   "source": [
    "#Referência L'Ecuyer, M = 2^31 - 1\n",
    "import matplotlib.pyplot as plt\n",
    "a = 39373\n",
    "c = 0\n",
    "M = 2147483647\n",
    "def LCG(seed, a, c, M, nsamples):\n",
    "    x = seed\n",
    "    u = []\n",
    "    for i in range(nsamples):\n",
    "        nx = (a * x + c) % M\n",
    "        u.append(float(nx) / float(M)) # Gerando numero pseudo aleatorio entre 0 e 1\n",
    "        x = nx\n",
    "    return u\n",
    "U = LCG(4, a, c, M, 1000000)\n",
    "print(len(U))\n",
    "plt.hist(U, facecolor = 'green')\n",
    "plt.show()"
   ]
  },
  {
   "cell_type": "markdown",
   "metadata": {},
   "source": [
    "### **Lançamento de moeda (cara ou coroa)**"
   ]
  },
  {
   "cell_type": "code",
   "execution_count": 4,
   "metadata": {
    "execution": {
     "iopub.execute_input": "2022-04-16T21:01:19.288679Z",
     "iopub.status.busy": "2022-04-16T21:01:19.288363Z",
     "iopub.status.idle": "2022-04-16T21:01:19.466327Z",
     "shell.execute_reply": "2022-04-16T21:01:19.465804Z",
     "shell.execute_reply.started": "2022-04-16T21:01:19.288648Z"
    },
    "tags": []
   },
   "outputs": [
    {
     "name": "stdout",
     "output_type": "stream",
     "text": [
      "500183  de 1000000 lancamentos\n"
     ]
    }
   ],
   "source": [
    "def CARA_OU_COROA(U, p):\n",
    "    n = len(U)\n",
    "    CC = []\n",
    "    for i in range(n):\n",
    "        if (U[i] < (1.0 - p)): #ou cara ou coroa\n",
    "            CC.append(0) #cara\n",
    "        else:\n",
    "            CC.append(1) #coroa\n",
    "    return CC\n",
    "\n",
    "CC = CARA_OU_COROA(U, 0.5)\n",
    "print(sum(CC), ' de 1000000 lancamentos')   "
   ]
  },
  {
   "cell_type": "markdown",
   "metadata": {},
   "source": [
    "### **Lançamento de dado**"
   ]
  },
  {
   "cell_type": "code",
   "execution_count": 5,
   "metadata": {
    "execution": {
     "iopub.execute_input": "2022-04-16T21:01:36.325130Z",
     "iopub.status.busy": "2022-04-16T21:01:36.324899Z",
     "iopub.status.idle": "2022-04-16T21:01:41.804245Z",
     "shell.execute_reply": "2022-04-16T21:01:41.803532Z",
     "shell.execute_reply.started": "2022-04-16T21:01:36.325107Z"
    },
    "tags": []
   },
   "outputs": [
    {
     "data": {
      "image/png": "[encoded data removed]",
      "text/plain": [
       "<Figure size 432x288 with 1 Axes>"
      ]
     },
     "metadata": {
      "needs_background": "light"
     },
     "output_type": "display_data"
    },
    {
     "data": {
      "image/png": "[encoded data removed]",
      "text/plain": [
       "<Figure size 432x288 with 1 Axes>"
      ]
     },
     "metadata": {
      "needs_background": "light"
     },
     "output_type": "display_data"
    }
   ],
   "source": [
    "# Jeito 1\n",
    "def DADO(U):\n",
    "    n = len(U)\n",
    "    dado = []\n",
    "    for i in range(n):\n",
    "        if (U[i] < 1.0 / 6.0):\n",
    "            dado.append(1)\n",
    "        elif (U[i] < 2.0 / 6.0):\n",
    "            dado.append(2)\n",
    "        elif (U[i] < 3.0 / 6.0):\n",
    "            dado.append(3)\n",
    "        elif (U[i] < 4.0 / 6.0):\n",
    "            dado.append(4)\n",
    "        elif (U[i] < 5.0 / 6.0):\n",
    "            dado.append(5)\n",
    "        else:\n",
    "            dado.append(6)\n",
    "    return dado\n",
    "\n",
    "U = LCG(3, a, c, M, 6000000)\n",
    "dado = DADO(U)\n",
    "plt.hist(dado, 6, facecolor = 'green')\n",
    "plt.show()\n",
    "\n",
    "# Jeito 2\n",
    "def DADO(U):\n",
    "    n = len(U)\n",
    "    dado = []\n",
    "    for i in range(n):\n",
    "        dado.append(int(U[i] * 6.0) + 1)\n",
    "    return dado\n",
    "\n",
    "U = LCG(3, a, c, M, 6000)\n",
    "dado = DADO(U)\n",
    "# print(dado)\n",
    "plt.hist(dado,6,facecolor='green')\n",
    "plt.show()"
   ]
  },
  {
   "cell_type": "markdown",
   "metadata": {},
   "source": [
    "## **Mersenne Twister**"
   ]
  },
  {
   "cell_type": "code",
   "execution_count": 13,
   "metadata": {
    "execution": {
     "iopub.execute_input": "2022-04-13T21:59:26.141747Z",
     "iopub.status.busy": "2022-04-13T21:59:26.141398Z",
     "iopub.status.idle": "2022-04-13T21:59:26.147538Z",
     "shell.execute_reply": "2022-04-13T21:59:26.146581Z",
     "shell.execute_reply.started": "2022-04-13T21:59:26.141692Z"
    }
   },
   "outputs": [
    {
     "name": "stdout",
     "output_type": "stream",
     "text": [
      "[0.06832665 0.9347059  0.5241937  ... 0.41863006 0.42667983 0.84707029]\n"
     ]
    }
   ],
   "source": [
    "import numpy as np\n",
    "u = np.random.sample(10000) # Retorna 10.000 valores no intervalo semiaberto [0.0, 1.0).\n",
    "print(u)"
   ]
  },
  {
   "cell_type": "code",
   "execution_count": null,
   "metadata": {},
   "outputs": [],
   "source": []
  }
 ],
 "metadata": {
  "kernelspec": {
   "display_name": "Python 3",
   "language": "python",
   "name": "python3"
  },
  "language_info": {
   "codemirror_mode": {
    "name": "ipython",
    "version": 3
   },
   "file_extension": ".py",
   "mimetype": "text/x-python",
   "name": "python",
   "nbconvert_exporter": "python",
   "pygments_lexer": "ipython3",
   "version": "3.7.6"
  }
 },
 "nbformat": 4,
 "nbformat_minor": 4
}
