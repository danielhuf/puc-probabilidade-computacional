{
 "cells": [
  {
   "cell_type": "markdown",
   "metadata": {},
   "source": [
    "# **SLIDE 3 - TÉCNICAS DE CONTAGEM**"
   ]
  },
  {
   "cell_type": "markdown",
   "metadata": {},
   "source": [
    "## **Produto Cartesiano**"
   ]
  },
  {
   "cell_type": "code",
   "execution_count": 1,
   "metadata": {
    "execution": {
     "iopub.execute_input": "2022-04-16T21:01:41.872404Z",
     "iopub.status.busy": "2022-04-16T21:01:41.872123Z",
     "iopub.status.idle": "2022-04-16T21:01:41.877711Z",
     "shell.execute_reply": "2022-04-16T21:01:41.877170Z",
     "shell.execute_reply.started": "2022-04-16T21:01:41.872339Z"
    },
    "tags": []
   },
   "outputs": [
    {
     "name": "stdout",
     "output_type": "stream",
     "text": [
      "[('a', 'p'), ('a', 'q'), ('b', 'p'), ('b', 'q'), ('c', 'p'), ('c', 'q')]\n"
     ]
    }
   ],
   "source": [
    "A = ['a', 'b', 'c']\n",
    "B = ['p', 'q']\n",
    "W = []\n",
    "for i in range(len(A)):\n",
    "    for j in range(len(B)):\n",
    "        elemento = (A[i], B[j]) #elemento é um 'tuple'\n",
    "        W.append(elemento)\n",
    "print(W)"
   ]
  },
  {
   "cell_type": "markdown",
   "metadata": {},
   "source": [
    "## **Permutações Simples**"
   ]
  },
  {
   "cell_type": "code",
   "execution_count": 2,
   "metadata": {
    "execution": {
     "iopub.execute_input": "2022-04-16T21:01:43.830304Z",
     "iopub.status.busy": "2022-04-16T21:01:43.829086Z",
     "iopub.status.idle": "2022-04-16T21:01:43.852821Z",
     "shell.execute_reply": "2022-04-16T21:01:43.851930Z",
     "shell.execute_reply.started": "2022-04-16T21:01:43.830176Z"
    },
    "tags": []
   },
   "outputs": [
    {
     "data": {
      "text/plain": [
       "120"
      ]
     },
     "execution_count": 2,
     "metadata": {},
     "output_type": "execute_result"
    }
   ],
   "source": [
    "def fatorial(n):\n",
    "    if (n == 0):\n",
    "        return (1)\n",
    "    else:\n",
    "        return (n * fatorial(n - 1))\n",
    "fatorial(5)"
   ]
  },
  {
   "cell_type": "markdown",
   "metadata": {},
   "source": [
    "## **Permutações Caóticas**"
   ]
  },
  {
   "cell_type": "code",
   "execution_count": 3,
   "metadata": {
    "execution": {
     "iopub.execute_input": "2022-04-16T21:01:46.086453Z",
     "iopub.status.busy": "2022-04-16T21:01:46.086218Z",
     "iopub.status.idle": "2022-04-16T21:01:46.091520Z",
     "shell.execute_reply": "2022-04-16T21:01:46.090839Z",
     "shell.execute_reply.started": "2022-04-16T21:01:46.086431Z"
    },
    "tags": []
   },
   "outputs": [
    {
     "data": {
      "text/plain": [
       "44.0"
      ]
     },
     "execution_count": 3,
     "metadata": {},
     "output_type": "execute_result"
    }
   ],
   "source": [
    "def permutacao_caotica(n):\n",
    "    retorno = 0\n",
    "    for i in range(n + 1):\n",
    "        retorno = retorno + (((-1)**i)/fatorial(i))\n",
    "    retorno = fatorial(n) * retorno\n",
    "    return (retorno)\n",
    "permutacao_caotica(5)"
   ]
  },
  {
   "cell_type": "markdown",
   "metadata": {},
   "source": [
    "## **Arranjos**"
   ]
  },
  {
   "cell_type": "code",
   "execution_count": 4,
   "metadata": {
    "execution": {
     "iopub.execute_input": "2022-04-16T21:01:47.639359Z",
     "iopub.status.busy": "2022-04-16T21:01:47.639022Z",
     "iopub.status.idle": "2022-04-16T21:01:47.644308Z",
     "shell.execute_reply": "2022-04-16T21:01:47.643668Z",
     "shell.execute_reply.started": "2022-04-16T21:01:47.639328Z"
    },
    "tags": []
   },
   "outputs": [
    {
     "data": {
      "text/plain": [
       "60.0"
      ]
     },
     "execution_count": 4,
     "metadata": {},
     "output_type": "execute_result"
    }
   ],
   "source": [
    "def arranjo(n, p):\n",
    "    return (fatorial(n) / fatorial(n - p))\n",
    "arranjo(5,3)"
   ]
  },
  {
   "cell_type": "markdown",
   "metadata": {},
   "source": [
    "## **Arranjos com Repetição**"
   ]
  },
  {
   "cell_type": "code",
   "execution_count": 5,
   "metadata": {
    "execution": {
     "iopub.execute_input": "2022-04-16T21:01:49.527118Z",
     "iopub.status.busy": "2022-04-16T21:01:49.526869Z",
     "iopub.status.idle": "2022-04-16T21:01:49.531556Z",
     "shell.execute_reply": "2022-04-16T21:01:49.530590Z",
     "shell.execute_reply.started": "2022-04-16T21:01:49.527093Z"
    },
    "tags": []
   },
   "outputs": [
    {
     "data": {
      "text/plain": [
       "125"
      ]
     },
     "execution_count": 5,
     "metadata": {},
     "output_type": "execute_result"
    }
   ],
   "source": [
    "def arranjo_com_repeticao(n, p):\n",
    "    return (n**p)\n",
    "arranjo_com_repeticao(5,3)"
   ]
  },
  {
   "cell_type": "markdown",
   "metadata": {},
   "source": [
    "## **Combinações Simples**"
   ]
  },
  {
   "cell_type": "code",
   "execution_count": 6,
   "metadata": {
    "execution": {
     "iopub.execute_input": "2022-04-16T21:01:50.163302Z",
     "iopub.status.busy": "2022-04-16T21:01:50.162879Z",
     "iopub.status.idle": "2022-04-16T21:01:50.171501Z",
     "shell.execute_reply": "2022-04-16T21:01:50.170002Z",
     "shell.execute_reply.started": "2022-04-16T21:01:50.163259Z"
    },
    "tags": []
   },
   "outputs": [
    {
     "data": {
      "text/plain": [
       "10.0"
      ]
     },
     "execution_count": 6,
     "metadata": {},
     "output_type": "execute_result"
    }
   ],
   "source": [
    "def combinacao(n, p):\n",
    "    return (fatorial(n) / (fatorial(p) * fatorial(n - p)))\n",
    "combinacao(5,3)"
   ]
  },
  {
   "cell_type": "markdown",
   "metadata": {},
   "source": [
    "## **Combinações Complementares**"
   ]
  },
  {
   "cell_type": "code",
   "execution_count": 7,
   "metadata": {
    "execution": {
     "iopub.execute_input": "2022-04-16T21:01:50.833177Z",
     "iopub.status.busy": "2022-04-16T21:01:50.832891Z",
     "iopub.status.idle": "2022-04-16T21:01:50.842347Z",
     "shell.execute_reply": "2022-04-16T21:01:50.840585Z",
     "shell.execute_reply.started": "2022-04-16T21:01:50.833150Z"
    },
    "tags": []
   },
   "outputs": [
    {
     "data": {
      "text/plain": [
       "10.0"
      ]
     },
     "execution_count": 7,
     "metadata": {},
     "output_type": "execute_result"
    }
   ],
   "source": [
    "def combinacao_complementar(n, p):\n",
    "    nc = n\n",
    "    pc = n - p\n",
    "    return (fatorial(nc) / (fatorial(pc) * fatorial(nc - pc)))\n",
    "combinacao_complementar(5,3)"
   ]
  },
  {
   "cell_type": "markdown",
   "metadata": {},
   "source": [
    "## **Combinações Completas (com repetição)**"
   ]
  },
  {
   "cell_type": "code",
   "execution_count": 8,
   "metadata": {
    "execution": {
     "iopub.execute_input": "2022-04-16T21:01:52.039510Z",
     "iopub.status.busy": "2022-04-16T21:01:52.039283Z",
     "iopub.status.idle": "2022-04-16T21:01:52.044949Z",
     "shell.execute_reply": "2022-04-16T21:01:52.044178Z",
     "shell.execute_reply.started": "2022-04-16T21:01:52.039487Z"
    },
    "tags": []
   },
   "outputs": [
    {
     "data": {
      "text/plain": [
       "35.0"
      ]
     },
     "execution_count": 8,
     "metadata": {},
     "output_type": "execute_result"
    }
   ],
   "source": [
    "def combinacao_completa(n, p):\n",
    "    nc = n + p - 1\n",
    "    pc = p\n",
    "    return (fatorial(nc) / (fatorial(pc) * fatorial(nc - pc)))\n",
    "combinacao_completa(5,3)"
   ]
  },
  {
   "cell_type": "markdown",
   "metadata": {},
   "source": [
    "## **Conjunto Potência**"
   ]
  },
  {
   "cell_type": "code",
   "execution_count": 10,
   "metadata": {
    "execution": {
     "iopub.execute_input": "2022-04-16T21:02:03.700295Z",
     "iopub.status.busy": "2022-04-16T21:02:03.700068Z",
     "iopub.status.idle": "2022-04-16T21:02:03.705302Z",
     "shell.execute_reply": "2022-04-16T21:02:03.704630Z",
     "shell.execute_reply.started": "2022-04-16T21:02:03.700272Z"
    },
    "tags": []
   },
   "outputs": [
    {
     "name": "stdout",
     "output_type": "stream",
     "text": [
      "[[], ['x'], ['y'], ['x', 'y']]\n"
     ]
    }
   ],
   "source": [
    "A = ['x', 'y']\n",
    "def potencia_recursiva(c):\n",
    "    if (len(c) == 0): # Caso base deve retornar um conjunto que contenha o conjunto vazio\n",
    "        return [[]] # [[]]é uma lista que contém a lista vazia\n",
    "    r = potencia_recursiva(c[:-1]) # Chamada recursiva removendo o último elemento\n",
    "    return r + [s + [c[-1]] for s in r] # s representa todos os subconjuntos de r\n",
    "P = potencia_recursiva(A)\n",
    "print(P)"
   ]
  },
  {
   "cell_type": "markdown",
   "metadata": {},
   "source": [
    "## **Função de Euler**"
   ]
  },
  {
   "cell_type": "code",
   "execution_count": 13,
   "metadata": {
    "execution": {
     "iopub.execute_input": "2022-04-16T21:02:36.392175Z",
     "iopub.status.busy": "2022-04-16T21:02:36.391901Z",
     "iopub.status.idle": "2022-04-16T21:02:36.400181Z",
     "shell.execute_reply": "2022-04-16T21:02:36.399294Z",
     "shell.execute_reply.started": "2022-04-16T21:02:36.392151Z"
    },
    "tags": []
   },
   "outputs": [
    {
     "data": {
      "text/plain": [
       "4.0"
      ]
     },
     "execution_count": 13,
     "metadata": {},
     "output_type": "execute_result"
    }
   ],
   "source": [
    "def funcao_Euler(n):\n",
    "    retorno = 0\n",
    "    fator = 2\n",
    "    decomposicao = []\n",
    "    produto = 1\n",
    "    nfatorado = n\n",
    "    while (nfatorado != 1):\n",
    "        multiplicidade = 0\n",
    "        while ((nfatorado % fator) == 0):\n",
    "            nfatorado = nfatorado / fator\n",
    "            multiplicidade = multiplicidade + 1\n",
    "        if (multiplicidade != 0):\n",
    "            decomposicao.append((fator, multiplicidade))\n",
    "        fator = fator + 1\n",
    "    for elemento in decomposicao:\n",
    "        produto = produto * ( 1 - (1/elemento[0]))\n",
    "    retorno = n * produto\n",
    "    return (retorno)\n",
    "funcao_Euler(8)"
   ]
  },
  {
   "cell_type": "code",
   "execution_count": null,
   "metadata": {},
   "outputs": [],
   "source": []
  }
 ],
 "metadata": {
  "kernelspec": {
   "display_name": "Python 3",
   "language": "python",
   "name": "python3"
  },
  "language_info": {
   "codemirror_mode": {
    "name": "ipython",
    "version": 3
   },
   "file_extension": ".py",
   "mimetype": "text/x-python",
   "name": "python",
   "nbconvert_exporter": "python",
   "pygments_lexer": "ipython3",
   "version": "3.7.6"
  }
 },
 "nbformat": 4,
 "nbformat_minor": 4
}
