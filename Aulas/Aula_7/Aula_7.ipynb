{
 "cells": [
  {
   "cell_type": "code",
   "execution_count": 1,
   "metadata": {},
   "outputs": [],
   "source": [
    "# Aula 37Prob Comp (31/03)"
   ]
  },
  {
   "cell_type": "code",
   "execution_count": 3,
   "metadata": {},
   "outputs": [
    {
     "name": "stdout",
     "output_type": "stream",
     "text": [
      "[[], ['x'], ['y'], ['x', 'y'], [1], ['x', 1], ['y', 1], ['x', 'y', 1]]\n"
     ]
    }
   ],
   "source": [
    "A = ['x', 'y', 1]\n",
    "def potencia_recursiva(c):\n",
    "    if (len(c) == 0): # Caso base deve retornar um conjunto que contenha o conjunto vazio\n",
    "        return [[]] # [[]]é uma lista que contém a lista vazia\n",
    "    r = potencia_recursiva(c[:-1]) # Chamada recursiva removendo o último elemento\n",
    "    return r + [s + [c[-1]] for s in r] # s representa todos os subconjuntos de r\n",
    "P = potencia_recursiva(A)\n",
    "print(P)"
   ]
  },
  {
   "cell_type": "code",
   "execution_count": null,
   "metadata": {},
   "outputs": [],
   "source": []
  }
 ],
 "metadata": {
  "kernelspec": {
   "display_name": "Python 3",
   "language": "python",
   "name": "python3"
  },
  "language_info": {
   "codemirror_mode": {
    "name": "ipython",
    "version": 3
   },
   "file_extension": ".py",
   "mimetype": "text/x-python",
   "name": "python",
   "nbconvert_exporter": "python",
   "pygments_lexer": "ipython3",
   "version": "3.8.5"
  }
 },
 "nbformat": 4,
 "nbformat_minor": 4
}
