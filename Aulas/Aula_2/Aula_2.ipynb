{
 "cells": [
  {
   "cell_type": "code",
   "execution_count": 1,
   "metadata": {},
   "outputs": [],
   "source": [
    "# Aula 2 Prob Comp (15/03)"
   ]
  },
  {
   "cell_type": "code",
   "execution_count": 14,
   "metadata": {},
   "outputs": [
    {
     "name": "stdout",
     "output_type": "stream",
     "text": [
      "12\n",
      "[2, 1, 6, 3, 7, 9, 10, 5, 8, 4, 2, 1]\n"
     ]
    }
   ],
   "source": [
    "x0 = 2\n",
    "a = 6\n",
    "c = 0\n",
    "M = 11\n",
    "\n",
    "def LCG(seed, a, c, M):\n",
    "    x = seed\n",
    "    u = []\n",
    "    u.append(x)\n",
    "    for i in range(11):\n",
    "        nx = (a * x + c) % M\n",
    "        u.append(nx)\n",
    "        x = nx\n",
    "    return u\n",
    "\n",
    "U = LCG(x0, a, c, M)\n",
    "print(len(U))\n",
    "print(U)"
   ]
  },
  {
   "cell_type": "code",
   "execution_count": 18,
   "metadata": {},
   "outputs": [
    {
     "name": "stdout",
     "output_type": "stream",
     "text": [
      "10000\n"
     ]
    },
    {
     "data": {
      "image/png": "[encoded data removed]",
      "text/plain": [
       "<Figure size 432x288 with 1 Axes>"
      ]
     },
     "metadata": {
      "needs_background": "light"
     },
     "output_type": "display_data"
    }
   ],
   "source": [
    "#Referência L'Ecuyer, M = 2^31 - 1\n",
    "import matplotlib.pyplot as plt\n",
    "a = 39373\n",
    "c = 0\n",
    "M = 2147483647\n",
    "def LCG(seed, a, c, M, nsamples):\n",
    "    x = seed\n",
    "    u = []\n",
    "    for i in range(nsamples):\n",
    "        nx = (a * x + c) % M\n",
    "        u.append(float(nx) / float(M))\n",
    "        x = nx\n",
    "    return u\n",
    "U = LCG(3, a, c, M, 10000)\n",
    "print(len(U))\n",
    "plt.hist(U, facecolor = 'green')\n",
    "plt.show()"
   ]
  },
  {
   "cell_type": "code",
   "execution_count": 19,
   "metadata": {},
   "outputs": [
    {
     "name": "stdout",
     "output_type": "stream",
     "text": [
      "5016\n"
     ]
    }
   ],
   "source": [
    "def CARA_OU_COROA(U, p):\n",
    "    n = len(U)\n",
    "    CC = []\n",
    "    for i in range(n):\n",
    "        if (U[i] < (1.0 - p)):\n",
    "            CC.append(0) #cara\n",
    "        else:\n",
    "            CC.append(1) #coroa\n",
    "    return CC\n",
    "CC = CARA_OU_COROA(U, 0.5)\n",
    "print(sum(CC))  #Aumentando o numero de samples, se apoxima de 5k e 5k"
   ]
  },
  {
   "cell_type": "code",
   "execution_count": 23,
   "metadata": {},
   "outputs": [
    {
     "name": "stdout",
     "output_type": "stream",
     "text": [
      "[0.70599934 0.94194909 0.12621208 0.46530125 0.56859867 0.8643661\n",
      " 0.61922603 0.6560472  0.05893268 0.57318297]\n"
     ]
    }
   ],
   "source": [
    "import numpy as np\n",
    "u = np.random.sample(10) # Retorna 10 valores no intervalo semiaberto [0.0, 1.0).\n",
    "print(u) # Mersenne Twister"
   ]
  },
  {
   "cell_type": "code",
   "execution_count": null,
   "metadata": {},
   "outputs": [],
   "source": []
  }
 ],
 "metadata": {
  "kernelspec": {
   "display_name": "Python 3",
   "language": "python",
   "name": "python3"
  },
  "language_info": {
   "codemirror_mode": {
    "name": "ipython",
    "version": 3
   },
   "file_extension": ".py",
   "mimetype": "text/x-python",
   "name": "python",
   "nbconvert_exporter": "python",
   "pygments_lexer": "ipython3",
   "version": "3.8.5"
  }
 },
 "nbformat": 4,
 "nbformat_minor": 4
}
